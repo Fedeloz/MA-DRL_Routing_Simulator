{
 "cells": [
  {
   "cell_type": "markdown",
   "metadata": {},
   "source": [
    "GPU"
   ]
  },
  {
   "cell_type": "code",
   "execution_count": 2,
   "metadata": {},
   "outputs": [
    {
     "name": "stdout",
     "output_type": "stream",
     "text": [
      "Graphics/Displays:\n",
      "\n",
      "    Apple M2:\n",
      "\n",
      "      Chipset Model: Apple M2\n",
      "      Type: GPU\n",
      "      Bus: Built-In\n",
      "      Total Number of Cores: 10\n",
      "      Vendor: Apple (0x106b)\n",
      "      Metal Support: Metal 3\n",
      "      Displays:\n",
      "        Color LCD:\n",
      "          Display Type: Built-in Liquid Retina Display\n",
      "          Resolution: 2880 x 1864 Retina\n",
      "          Main Display: Yes\n",
      "          Mirror: Off\n",
      "          Online: Yes\n",
      "          Automatically Adjust Brightness: Yes\n",
      "          Connection Type: Internal\n",
      "        DELL E228WFP:\n",
      "          Resolution: 1680 x 1050 (Widescreen Super eXtended Graphics Array Plus)\n",
      "          UI Looks like: 1680 x 1050 @ 60.00Hz\n",
      "          Mirror: Off\n",
      "          Online: Yes\n",
      "          Rotation: Supported\n",
      "\n",
      "\n",
      "GPU(s) used:\n",
      "[PhysicalDevice(name='/physical_device:GPU:0', device_type='GPU')]\n"
     ]
    }
   ],
   "source": [
    "import subprocess\n",
    "import tensorflow as tf\n",
    "\n",
    "\n",
    "def get_gpu_info():\n",
    "    try:\n",
    "        process = subprocess.Popen(['system_profiler', 'SPDisplaysDataType'], stdout=subprocess.PIPE, stderr=subprocess.PIPE)\n",
    "        stdout, stderr = process.communicate()\n",
    "        return stdout.decode('utf-8')\n",
    "    except Exception as e:\n",
    "        return str(e)\n",
    "\n",
    "print(get_gpu_info())\n",
    "\n",
    "physical_devices = tf.config.list_physical_devices('GPU')\n",
    "if len(physical_devices) > 0:\n",
    "    tf.config.experimental.set_memory_growth(physical_devices[0], True)\n",
    "    print('GPU(s) used:')\n",
    "    print(physical_devices)\n",
    "else:\n",
    "    print('No GPU used')\n"
   ]
  },
  {
   "cell_type": "markdown",
   "metadata": {},
   "source": [
    "Logger"
   ]
  },
  {
   "cell_type": "code",
   "execution_count": null,
   "metadata": {},
   "outputs": [],
   "source": [
    "import sys\n",
    "import atexit\n",
    "\n",
    "class Logger(object):\n",
    "    def __init__(self, filename='logfile.log'):\n",
    "        self.terminal = sys.stdout\n",
    "        self.log = open(filename, 'a')\n",
    "        atexit.register(self.log.close)  # Register the file close method to be called when the program exits\n",
    "\n",
    "    def write(self, message):\n",
    "        self.terminal.write(message)\n",
    "        self.log.write(message)\n",
    "\n",
    "    def flush(self):\n",
    "        self.terminal.flush()\n",
    "        self.log.flush()\n",
    "\n",
    "sys.stdout = Logger('logfile.log')\n",
    "\n",
    "def example_function():\n",
    "    print(\"This message will be logged to the file and printed on the console.\")\n",
    "    for i in range(5):\n",
    "        print(f\"Number: {i}\")\n",
    "\n",
    "if __name__ == '__main__':\n",
    "    example_function()\n",
    "\n"
   ]
  },
  {
   "cell_type": "code",
   "execution_count": 7,
   "metadata": {},
   "outputs": [
    {
     "name": "stdout",
     "output_type": "stream",
     "text": [
      " El volumen de la unidad T es DATOS\n",
      " El n�mero de serie del volumen es: 6648-9550\n",
      "\n",
      " Directorio de t:\\Fede\\SatNEx_code\\tests\n",
      "\n",
      "17/10/2023  10:17    <DIR>          .\n",
      "17/10/2023  10:17    <DIR>          ..\n",
      "09/10/2023  17:39             5.684 allLatencies_2gateways.csv\n",
      "13/10/2023  03:59         1.806.350 allLatencies_3_gateways.csv\n",
      "17/10/2023  10:19            15.309 becaria.ipynb\n",
      "10/10/2023  14:41               124 logfile.log\n",
      "               4 archivos      1.827.467 bytes\n",
      "               2 dirs  168.024.330.240 bytes libres\n"
     ]
    }
   ],
   "source": [
    "!dir"
   ]
  }
 ],
 "metadata": {
  "kernelspec": {
   "display_name": "SatNEx",
   "language": "python",
   "name": "python3"
  },
  "language_info": {
   "codemirror_mode": {
    "name": "ipython",
    "version": 3
   },
   "file_extension": ".py",
   "mimetype": "text/x-python",
   "name": "python",
   "nbconvert_exporter": "python",
   "pygments_lexer": "ipython3",
   "version": "3.9.12"
  },
  "orig_nbformat": 4
 },
 "nbformat": 4,
 "nbformat_minor": 2
}
