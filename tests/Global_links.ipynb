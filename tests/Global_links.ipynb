{
 "cells": [
  {
   "cell_type": "markdown",
   "metadata": {},
   "source": [
    "# Global links"
   ]
  },
  {
   "cell_type": "code",
   "execution_count": 1,
   "metadata": {},
   "outputs": [
    {
     "name": "stdout",
     "output_type": "stream",
     "text": [
      "No GPU available\n"
     ]
    }
   ],
   "source": [
    "import sys\n",
    "import os\n",
    "import pandas as pd\n",
    "import networkx as nx\n",
    "\n",
    "# Get the parent directory of your current directory\n",
    "parent_dir = os.path.dirname(os.getcwd())\n",
    "\n",
    "# Add the parent directory to the sys.path\n",
    "sys.path.append(parent_dir)\n",
    "\n",
    "# Now you can import your module as usual\n",
    "from SimulationRL import *\n",
    "\n",
    "populationMap   = '../Population Map/gpw_v4_population_count_rev11_2020_15_min.tif'\n",
    "outputPath      = './GlobalLinks/'\n",
    "inputPath       = '../'"
   ]
  },
  {
   "cell_type": "code",
   "execution_count": 2,
   "metadata": {},
   "outputs": [
    {
     "name": "stdout",
     "output_type": "stream",
     "text": [
      "Nº of Gateways: 18\n",
      "Using Kepler constellation design\n",
      "total divisions in x = 1440\n",
      " total divisions in y = 720\n",
      " total cells = 1036800\n",
      " window of operation (longitudes) = (0, 1440)\n",
      " window of operation (latitudes) = (0, 720)\n",
      "\n",
      "Finding cells within coverage area of GT 18 of 18\n",
      "Time taken to find cells that are within range of all GTs: 3.573683023452759 seconds\n",
      "Time taken to add cell information to all GTs: 0.06829094886779785 seconds\n",
      "\n"
     ]
    },
    {
     "name": "stderr",
     "output_type": "stream",
     "text": [
      "WARNING:absl:At this time, the v2.11+ optimizer `tf.keras.optimizers.Adam` runs slowly on M1/M2 Macs, please use the legacy Keras optimizer instead, located at `tf.keras.optimizers.legacy.Adam`.\n"
     ]
    },
    {
     "name": "stdout",
     "output_type": "stream",
     "text": [
      "Traffic generated per GT (totalAvgFlow per Milliard):\n",
      "----------------------------------\n",
      "Malaga, Spain: 4357.75008673563\n",
      "Los Angeles, California, US: 2516.119043413239\n",
      "Aalborg, Denmark: 2018.4046745415958\n",
      "Cordoba, Argentina (partner station): 932.1854356227834\n",
      "Tolhuin, Argentina (partner station): 29.86153003893438\n",
      "Inuvik, Northwest Territories, Canada: 0.5796446755340825\n",
      "Nemea, Greece: 1664.6120673606456\n",
      "Nuuk, Greenland: 2.494889509381088\n",
      "Bangalore, India (partner station): 15104.117448694707\n",
      "Tokyo, Japan: 6625.6875880494235\n",
      "Mauritius: 151.8851724793457\n",
      "Awarua, New Zealand: 59.28330772037196\n",
      "Svalbard, Norway: 0.21245783464445053\n",
      "Vardø, Norway: 70.10764602920027\n",
      "Azores, Portugal (partner station): 16.912500300896486\n",
      "Singapore: 3598.871669521102\n",
      "Hawaii, US: 100.0016835125766\n",
      "Jeju, South Korea: 4483.70384621723\n",
      "----------------------------------\n",
      "State Space:\n",
      " ('UpLinked Up', 'UpLinked Down', 'UpLinked Right', 'UpLinked Left', 'Up Latitude', 'Up Longitude', 'DownLinked Up', 'DownLinked Down', 'DownLinked Right', 'DownLinked Left', 'Down Latitude', 'Down Longitude', 'RightLinked Up', 'RightLinked Down', 'RightLinked Right', 'RightLinked Left', 'Right Latitude', 'Right Longitude', 'LeftLinked Up', 'LeftLinked Down', 'LeftLinked Right', 'LeftLinked Left', 'Left Latitude', 'Left Longitude', 'Actual latitude', 'Actual longitude', 'Destination latitude', 'Destination longitude')\n",
      "Action Space:\n",
      " ('U', 'D', 'R', 'L')\n",
      "----------------------------------\n",
      "Neural Network Created!!!\n",
      "----------------------------------\n",
      "Model: \"sequential\"\n",
      "_________________________________________________________________\n",
      " Layer (type)                Output Shape              Param #   \n",
      "=================================================================\n",
      " dense (Dense)               (None, 32)                928       \n",
      "                                                                 \n",
      " dense_1 (Dense)             (None, 32)                1056      \n",
      "                                                                 \n",
      " dense_2 (Dense)             (None, 4)                 132       \n",
      "                                                                 \n",
      "=================================================================\n",
      "Total params: 2116 (8.27 KB)\n",
      "Trainable params: 2116 (8.27 KB)\n",
      "Non-trainable params: 0 (0.00 Byte)\n",
      "_________________________________________________________________\n",
      "Saving hyperparams at: ./GlobalLinks/\n"
     ]
    }
   ],
   "source": [
    "inputParams = pd.read_csv(inputPath + \"inputRL.csv\")\n",
    "\n",
    "locations = inputParams['Locations'].copy()\n",
    "print('Nº of Gateways: ' + str(len(locations)))\n",
    "\n",
    "\n",
    "env = simpy.Environment()\n",
    "earth, _, _, _ = initialize(env, populationMap, inputPath + 'Gateways.csv', rKM, inputParams, movementTime, locations, outputPath)\n",
    "G = earth.gateways[0].graph"
   ]
  },
  {
   "cell_type": "code",
   "execution_count": 5,
   "metadata": {},
   "outputs": [
    {
     "name": "stdout",
     "output_type": "stream",
     "text": [
      "Graph with 158 nodes and 282 edges\n"
     ]
    },
    {
     "ename": "KeyError",
     "evalue": "'attribute_name'",
     "output_type": "error",
     "traceback": [
      "\u001b[0;31m---------------------------------------------------------------------------\u001b[0m",
      "\u001b[0;31mKeyError\u001b[0m                                  Traceback (most recent call last)",
      "\u001b[1;32m/Users/fedeloz/Documents/Workspace/Q-Learning/tests/Global_links.ipynb Cell 4\u001b[0m line \u001b[0;36m6\n\u001b[1;32m      <a href='vscode-notebook-cell:/Users/fedeloz/Documents/Workspace/Q-Learning/tests/Global_links.ipynb#W3sZmlsZQ%3D%3D?line=2'>3</a>\u001b[0m \u001b[39m# Assuming G is your NetworkX graph\u001b[39;00m\n\u001b[1;32m      <a href='vscode-notebook-cell:/Users/fedeloz/Documents/Workspace/Q-Learning/tests/Global_links.ipynb#W3sZmlsZQ%3D%3D?line=3'>4</a>\u001b[0m \u001b[39m# Convert complex attributes to simple types (e.g., just use the name or id of the Satellite)\u001b[39;00m\n\u001b[1;32m      <a href='vscode-notebook-cell:/Users/fedeloz/Documents/Workspace/Q-Learning/tests/Global_links.ipynb#W3sZmlsZQ%3D%3D?line=4'>5</a>\u001b[0m \u001b[39mfor\u001b[39;00m node \u001b[39min\u001b[39;00m G\u001b[39m.\u001b[39mnodes():\n\u001b[0;32m----> <a href='vscode-notebook-cell:/Users/fedeloz/Documents/Workspace/Q-Learning/tests/Global_links.ipynb#W3sZmlsZQ%3D%3D?line=5'>6</a>\u001b[0m     \u001b[39mif\u001b[39;00m \u001b[39misinstance\u001b[39m(G\u001b[39m.\u001b[39mnodes[node][\u001b[39m'\u001b[39m\u001b[39mattribute_name\u001b[39m\u001b[39m'\u001b[39m], SimulationRL\u001b[39m.\u001b[39mSatellite):\n\u001b[1;32m      <a href='vscode-notebook-cell:/Users/fedeloz/Documents/Workspace/Q-Learning/tests/Global_links.ipynb#W3sZmlsZQ%3D%3D?line=6'>7</a>\u001b[0m         G\u001b[39m.\u001b[39mnodes[node][\u001b[39m'\u001b[39m\u001b[39mattribute_name\u001b[39m\u001b[39m'\u001b[39m] \u001b[39m=\u001b[39m G\u001b[39m.\u001b[39mnodes[node][\u001b[39m'\u001b[39m\u001b[39mattribute_name\u001b[39m\u001b[39m'\u001b[39m]\u001b[39m.\u001b[39mid  \u001b[39m# or any other unique identifier\u001b[39;00m\n\u001b[1;32m      <a href='vscode-notebook-cell:/Users/fedeloz/Documents/Workspace/Q-Learning/tests/Global_links.ipynb#W3sZmlsZQ%3D%3D?line=8'>9</a>\u001b[0m \u001b[39m# Similarly for edges, if there are any complex types\u001b[39;00m\n",
      "\u001b[0;31mKeyError\u001b[0m: 'attribute_name'"
     ]
    }
   ],
   "source": [
    "print(G)\n",
    "\n",
    "# Assuming G is your NetworkX graph\n",
    "# Convert complex attributes to simple types (e.g., just use the name or id of the Satellite)\n",
    "for node in G.nodes():\n",
    "    if isinstance(G.nodes[node]['attribute_name'], SimulationRL.Satellite):\n",
    "        G.nodes[node]['attribute_name'] = G.nodes[node]['attribute_name'].id  # or any other unique identifier\n",
    "\n",
    "# Similarly for edges, if there are any complex types\n",
    "for u, v, key in G.edges(keys=True):\n",
    "    if isinstance(G[u][v][key]['attribute_name'], SimulationRL.Satellite):\n",
    "        G[u][v][key]['attribute_name'] = G[u][v][key]['attribute_name'].id\n",
    "\n",
    "# Now write to GraphML\n",
    "nx.write_graphml(G, outputPath + 'Graph.graphml')\n",
    "\n"
   ]
  },
  {
   "cell_type": "code",
   "execution_count": 4,
   "metadata": {},
   "outputs": [
    {
     "ename": "KeyError",
     "evalue": "<class 'SimulationRL.Satellite'>",
     "output_type": "error",
     "traceback": [
      "\u001b[0;31m---------------------------------------------------------------------------\u001b[0m",
      "\u001b[0;31mKeyError\u001b[0m                                  Traceback (most recent call last)",
      "\u001b[1;32m/Users/fedeloz/Documents/Workspace/Q-Learning/tests/Global_links.ipynb Cell 5\u001b[0m line \u001b[0;36m3\n\u001b[1;32m      <a href='vscode-notebook-cell:/Users/fedeloz/Documents/Workspace/Q-Learning/tests/Global_links.ipynb#W4sZmlsZQ%3D%3D?line=0'>1</a>\u001b[0m \u001b[39mimport\u001b[39;00m \u001b[39mnetworkx\u001b[39;00m \u001b[39mas\u001b[39;00m \u001b[39mnx\u001b[39;00m\n\u001b[1;32m      <a href='vscode-notebook-cell:/Users/fedeloz/Documents/Workspace/Q-Learning/tests/Global_links.ipynb#W4sZmlsZQ%3D%3D?line=1'>2</a>\u001b[0m \u001b[39m# Assuming G is your NetworkX graph\u001b[39;00m\n\u001b[0;32m----> <a href='vscode-notebook-cell:/Users/fedeloz/Documents/Workspace/Q-Learning/tests/Global_links.ipynb#W4sZmlsZQ%3D%3D?line=2'>3</a>\u001b[0m nx\u001b[39m.\u001b[39mwrite_graphml(G, outputPath \u001b[39m+\u001b[39m \u001b[39m'\u001b[39m\u001b[39mGraph.graphml\u001b[39m\u001b[39m'\u001b[39m)\n",
      "File \u001b[0;32m~/Documents/Workspace/Q-Learning/SatNEx/lib/python3.9/site-packages/networkx/utils/decorators.py:795\u001b[0m, in \u001b[0;36margmap.__call__.<locals>.func\u001b[0;34m(_argmap__wrapper, *args, **kwargs)\u001b[0m\n\u001b[1;32m    794\u001b[0m \u001b[39mdef\u001b[39;00m \u001b[39mfunc\u001b[39m(\u001b[39m*\u001b[39margs, __wrapper\u001b[39m=\u001b[39m\u001b[39mNone\u001b[39;00m, \u001b[39m*\u001b[39m\u001b[39m*\u001b[39mkwargs):\n\u001b[0;32m--> 795\u001b[0m     \u001b[39mreturn\u001b[39;00m argmap\u001b[39m.\u001b[39;49m_lazy_compile(__wrapper)(\u001b[39m*\u001b[39;49margs, \u001b[39m*\u001b[39;49m\u001b[39m*\u001b[39;49mkwargs)\n",
      "File \u001b[0;32m<class 'networkx.utils.decorators.argmap'> compilation 5:5\u001b[0m, in \u001b[0;36margmap_write_graphml_lxml_1\u001b[0;34m(G, path, encoding, prettyprint, infer_numeric_types, named_key_ids, edge_id_from_attribute)\u001b[0m\n\u001b[1;32m      3\u001b[0m \u001b[39mfrom\u001b[39;00m \u001b[39mcontextlib\u001b[39;00m \u001b[39mimport\u001b[39;00m contextmanager\n\u001b[1;32m      4\u001b[0m \u001b[39mfrom\u001b[39;00m \u001b[39mpathlib\u001b[39;00m \u001b[39mimport\u001b[39;00m Path\n\u001b[0;32m----> 5\u001b[0m \u001b[39mimport\u001b[39;00m \u001b[39mwarnings\u001b[39;00m\n\u001b[1;32m      7\u001b[0m \u001b[39mimport\u001b[39;00m \u001b[39mnetworkx\u001b[39;00m \u001b[39mas\u001b[39;00m \u001b[39mnx\u001b[39;00m\n\u001b[1;32m      8\u001b[0m \u001b[39mfrom\u001b[39;00m \u001b[39mnetworkx\u001b[39;00m\u001b[39m.\u001b[39;00m\u001b[39mutils\u001b[39;00m \u001b[39mimport\u001b[39;00m create_random_state, create_py_random_state\n",
      "File \u001b[0;32m~/Documents/Workspace/Q-Learning/SatNEx/lib/python3.9/site-packages/networkx/readwrite/graphml.py:171\u001b[0m, in \u001b[0;36mwrite_graphml_lxml\u001b[0;34m(G, path, encoding, prettyprint, infer_numeric_types, named_key_ids, edge_id_from_attribute)\u001b[0m\n\u001b[1;32m    160\u001b[0m \u001b[39mexcept\u001b[39;00m \u001b[39mImportError\u001b[39;00m:\n\u001b[1;32m    161\u001b[0m     \u001b[39mreturn\u001b[39;00m write_graphml_xml(\n\u001b[1;32m    162\u001b[0m         G,\n\u001b[1;32m    163\u001b[0m         path,\n\u001b[0;32m   (...)\u001b[0m\n\u001b[1;32m    168\u001b[0m         edge_id_from_attribute,\n\u001b[1;32m    169\u001b[0m     )\n\u001b[0;32m--> 171\u001b[0m writer \u001b[39m=\u001b[39m GraphMLWriterLxml(\n\u001b[1;32m    172\u001b[0m     path,\n\u001b[1;32m    173\u001b[0m     graph\u001b[39m=\u001b[39;49mG,\n\u001b[1;32m    174\u001b[0m     encoding\u001b[39m=\u001b[39;49mencoding,\n\u001b[1;32m    175\u001b[0m     prettyprint\u001b[39m=\u001b[39;49mprettyprint,\n\u001b[1;32m    176\u001b[0m     infer_numeric_types\u001b[39m=\u001b[39;49minfer_numeric_types,\n\u001b[1;32m    177\u001b[0m     named_key_ids\u001b[39m=\u001b[39;49mnamed_key_ids,\n\u001b[1;32m    178\u001b[0m     edge_id_from_attribute\u001b[39m=\u001b[39;49medge_id_from_attribute,\n\u001b[1;32m    179\u001b[0m )\n\u001b[1;32m    180\u001b[0m writer\u001b[39m.\u001b[39mdump()\n",
      "File \u001b[0;32m~/Documents/Workspace/Q-Learning/SatNEx/lib/python3.9/site-packages/networkx/readwrite/graphml.py:729\u001b[0m, in \u001b[0;36mGraphMLWriterLxml.__init__\u001b[0;34m(self, path, graph, encoding, prettyprint, infer_numeric_types, named_key_ids, edge_id_from_attribute)\u001b[0m\n\u001b[1;32m    726\u001b[0m \u001b[39mself\u001b[39m\u001b[39m.\u001b[39mattribute_types \u001b[39m=\u001b[39m defaultdict(\u001b[39mset\u001b[39m)\n\u001b[1;32m    728\u001b[0m \u001b[39mif\u001b[39;00m graph \u001b[39mis\u001b[39;00m \u001b[39mnot\u001b[39;00m \u001b[39mNone\u001b[39;00m:\n\u001b[0;32m--> 729\u001b[0m     \u001b[39mself\u001b[39;49m\u001b[39m.\u001b[39;49madd_graph_element(graph)\n",
      "File \u001b[0;32m~/Documents/Workspace/Q-Learning/SatNEx/lib/python3.9/site-packages/networkx/readwrite/graphml.py:770\u001b[0m, in \u001b[0;36mGraphMLWriterLxml.add_graph_element\u001b[0;34m(self, G)\u001b[0m\n\u001b[1;32m    768\u001b[0m \u001b[39mfor\u001b[39;00m node, d \u001b[39min\u001b[39;00m G\u001b[39m.\u001b[39mnodes(data\u001b[39m=\u001b[39m\u001b[39mTrue\u001b[39;00m):\n\u001b[1;32m    769\u001b[0m     \u001b[39mfor\u001b[39;00m k, v \u001b[39min\u001b[39;00m d\u001b[39m.\u001b[39mitems():\n\u001b[0;32m--> 770\u001b[0m         T \u001b[39m=\u001b[39m \u001b[39mself\u001b[39;49m\u001b[39m.\u001b[39;49mxml_type[\u001b[39mself\u001b[39;49m\u001b[39m.\u001b[39;49mattr_type(k, \u001b[39m\"\u001b[39;49m\u001b[39mnode\u001b[39;49m\u001b[39m\"\u001b[39;49m, v)]\n\u001b[1;32m    771\u001b[0m         \u001b[39mself\u001b[39m\u001b[39m.\u001b[39mget_key(\u001b[39mstr\u001b[39m(k), T, \u001b[39m\"\u001b[39m\u001b[39mnode\u001b[39m\u001b[39m\"\u001b[39m, node_default\u001b[39m.\u001b[39mget(k))\n\u001b[1;32m    772\u001b[0m \u001b[39m# Edges and data\u001b[39;00m\n",
      "\u001b[0;31mKeyError\u001b[0m: <class 'SimulationRL.Satellite'>"
     ]
    }
   ],
   "source": [
    "\n",
    "nx.write_graphml(G, outputPath + 'Graph.graphml')\n"
   ]
  }
 ],
 "metadata": {
  "kernelspec": {
   "display_name": "SatNEx",
   "language": "python",
   "name": "python3"
  },
  "language_info": {
   "codemirror_mode": {
    "name": "ipython",
    "version": 3
   },
   "file_extension": ".py",
   "mimetype": "text/x-python",
   "name": "python",
   "nbconvert_exporter": "python",
   "pygments_lexer": "ipython3",
   "version": "3.9.12"
  }
 },
 "nbformat": 4,
 "nbformat_minor": 2
}
